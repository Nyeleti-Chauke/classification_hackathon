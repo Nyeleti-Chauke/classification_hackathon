{
  "cells": [
    {
      "cell_type": "markdown",
      "metadata": {
        "id": "CivbOD_1aYoI"
      },
      "source": [
        "# Classification Hackathon Student Solution"
      ]
    },
    {
      "cell_type": "markdown",
      "metadata": {
        "id": "Io9TSNMYaj2q"
      },
      "source": [
        "# 1. Importing Packages"
      ]
    },
    {
      "cell_type": "code",
      "execution_count": 1,
      "metadata": {
        "id": "mJbfc1FpandV"
      },
      "outputs": [],
      "source": [
        "# Libraries of loading, manipulation and visualisation\n",
        "import pandas as pd\n",
        "import numpy as np\n",
        "import matplotlib.pyplot as plt\n",
        "import seaborn as sns\n",
        "from sklearn.model_selection import train_test_split\n",
        "\n",
        "\n",
        "from sklearn.linear_model import LogisticRegression\n",
        "from sklearn.metrics import accuracy_score, classification_report, confusion_matrix\n",
        "from sklearn.feature_extraction.text import CountVectorizer\n",
        "from sklearn.pipeline import make_pipeline\n",
        "from sklearn.model_selection import train_test_split\n",
        "from sklearn.naive_bayes import MultinomialNB\n",
        "from sklearn.ensemble import StackingClassifier\n",
        "from sklearn.ensemble import RandomForestClassifier\n",
        "from sklearn.ensemble import GradientBoostingClassifier\n",
        "from sklearn.metrics import accuracy_score\n",
        "from sklearn.datasets import make_classification\n",
        "\n",
        "import re\n",
        "import string"
      ]
    },
    {
      "cell_type": "markdown",
      "metadata": {
        "id": "VYgx6WT9a1CC"
      },
      "source": [
        "# 2. Loading Data"
      ]
    },
    {
      "cell_type": "code",
      "execution_count": 2,
      "metadata": {
        "id": "8mdLVd3ca395"
      },
      "outputs": [],
      "source": [
        "# Load both test & train data\n",
        "df_train = pd.read_csv('train_set.csv')\n",
        "df_test = pd.read_csv('test_set.csv')\n",
        "\n"
      ]
    },
    {
      "cell_type": "markdown",
      "metadata": {
        "id": "vZQtubw-a5U1"
      },
      "source": [
        "# 3. Exploratory Data Analysis(EDA)"
      ]
    },
    {
      "cell_type": "code",
      "execution_count": 3,
      "metadata": {
        "colab": {
          "base_uri": "https://localhost:8080/",
          "height": 206
        },
        "id": "6SJWxqsKbBMy",
        "outputId": "4476f4c7-e3f2-4d2d-bed6-2342b6ffefe3"
      },
      "outputs": [
        {
          "output_type": "execute_result",
          "data": {
            "text/plain": [
              "  lang_id                                               text\n",
              "0     xho  umgaqo-siseko wenza amalungiselelo kumaziko ax...\n",
              "1     xho  i-dha iya kuba nobulumko bokubeka umsebenzi na...\n",
              "2     eng  the province of kwazulu-natal department of tr...\n",
              "3     nso  o netefatša gore o ba file dilo ka moka tše le...\n",
              "4     ven  khomishini ya ndinganyiso ya mbeu yo ewa maana..."
            ],
            "text/html": [
              "\n",
              "  <div id=\"df-d4454b86-3368-4294-b760-d350afeab8b1\" class=\"colab-df-container\">\n",
              "    <div>\n",
              "<style scoped>\n",
              "    .dataframe tbody tr th:only-of-type {\n",
              "        vertical-align: middle;\n",
              "    }\n",
              "\n",
              "    .dataframe tbody tr th {\n",
              "        vertical-align: top;\n",
              "    }\n",
              "\n",
              "    .dataframe thead th {\n",
              "        text-align: right;\n",
              "    }\n",
              "</style>\n",
              "<table border=\"1\" class=\"dataframe\">\n",
              "  <thead>\n",
              "    <tr style=\"text-align: right;\">\n",
              "      <th></th>\n",
              "      <th>lang_id</th>\n",
              "      <th>text</th>\n",
              "    </tr>\n",
              "  </thead>\n",
              "  <tbody>\n",
              "    <tr>\n",
              "      <th>0</th>\n",
              "      <td>xho</td>\n",
              "      <td>umgaqo-siseko wenza amalungiselelo kumaziko ax...</td>\n",
              "    </tr>\n",
              "    <tr>\n",
              "      <th>1</th>\n",
              "      <td>xho</td>\n",
              "      <td>i-dha iya kuba nobulumko bokubeka umsebenzi na...</td>\n",
              "    </tr>\n",
              "    <tr>\n",
              "      <th>2</th>\n",
              "      <td>eng</td>\n",
              "      <td>the province of kwazulu-natal department of tr...</td>\n",
              "    </tr>\n",
              "    <tr>\n",
              "      <th>3</th>\n",
              "      <td>nso</td>\n",
              "      <td>o netefatša gore o ba file dilo ka moka tše le...</td>\n",
              "    </tr>\n",
              "    <tr>\n",
              "      <th>4</th>\n",
              "      <td>ven</td>\n",
              "      <td>khomishini ya ndinganyiso ya mbeu yo ewa maana...</td>\n",
              "    </tr>\n",
              "  </tbody>\n",
              "</table>\n",
              "</div>\n",
              "    <div class=\"colab-df-buttons\">\n",
              "\n",
              "  <div class=\"colab-df-container\">\n",
              "    <button class=\"colab-df-convert\" onclick=\"convertToInteractive('df-d4454b86-3368-4294-b760-d350afeab8b1')\"\n",
              "            title=\"Convert this dataframe to an interactive table.\"\n",
              "            style=\"display:none;\">\n",
              "\n",
              "  <svg xmlns=\"http://www.w3.org/2000/svg\" height=\"24px\" viewBox=\"0 -960 960 960\">\n",
              "    <path d=\"M120-120v-720h720v720H120Zm60-500h600v-160H180v160Zm220 220h160v-160H400v160Zm0 220h160v-160H400v160ZM180-400h160v-160H180v160Zm440 0h160v-160H620v160ZM180-180h160v-160H180v160Zm440 0h160v-160H620v160Z\"/>\n",
              "  </svg>\n",
              "    </button>\n",
              "\n",
              "  <style>\n",
              "    .colab-df-container {\n",
              "      display:flex;\n",
              "      gap: 12px;\n",
              "    }\n",
              "\n",
              "    .colab-df-convert {\n",
              "      background-color: #E8F0FE;\n",
              "      border: none;\n",
              "      border-radius: 50%;\n",
              "      cursor: pointer;\n",
              "      display: none;\n",
              "      fill: #1967D2;\n",
              "      height: 32px;\n",
              "      padding: 0 0 0 0;\n",
              "      width: 32px;\n",
              "    }\n",
              "\n",
              "    .colab-df-convert:hover {\n",
              "      background-color: #E2EBFA;\n",
              "      box-shadow: 0px 1px 2px rgba(60, 64, 67, 0.3), 0px 1px 3px 1px rgba(60, 64, 67, 0.15);\n",
              "      fill: #174EA6;\n",
              "    }\n",
              "\n",
              "    .colab-df-buttons div {\n",
              "      margin-bottom: 4px;\n",
              "    }\n",
              "\n",
              "    [theme=dark] .colab-df-convert {\n",
              "      background-color: #3B4455;\n",
              "      fill: #D2E3FC;\n",
              "    }\n",
              "\n",
              "    [theme=dark] .colab-df-convert:hover {\n",
              "      background-color: #434B5C;\n",
              "      box-shadow: 0px 1px 3px 1px rgba(0, 0, 0, 0.15);\n",
              "      filter: drop-shadow(0px 1px 2px rgba(0, 0, 0, 0.3));\n",
              "      fill: #FFFFFF;\n",
              "    }\n",
              "  </style>\n",
              "\n",
              "    <script>\n",
              "      const buttonEl =\n",
              "        document.querySelector('#df-d4454b86-3368-4294-b760-d350afeab8b1 button.colab-df-convert');\n",
              "      buttonEl.style.display =\n",
              "        google.colab.kernel.accessAllowed ? 'block' : 'none';\n",
              "\n",
              "      async function convertToInteractive(key) {\n",
              "        const element = document.querySelector('#df-d4454b86-3368-4294-b760-d350afeab8b1');\n",
              "        const dataTable =\n",
              "          await google.colab.kernel.invokeFunction('convertToInteractive',\n",
              "                                                    [key], {});\n",
              "        if (!dataTable) return;\n",
              "\n",
              "        const docLinkHtml = 'Like what you see? Visit the ' +\n",
              "          '<a target=\"_blank\" href=https://colab.research.google.com/notebooks/data_table.ipynb>data table notebook</a>'\n",
              "          + ' to learn more about interactive tables.';\n",
              "        element.innerHTML = '';\n",
              "        dataTable['output_type'] = 'display_data';\n",
              "        await google.colab.output.renderOutput(dataTable, element);\n",
              "        const docLink = document.createElement('div');\n",
              "        docLink.innerHTML = docLinkHtml;\n",
              "        element.appendChild(docLink);\n",
              "      }\n",
              "    </script>\n",
              "  </div>\n",
              "\n",
              "\n",
              "<div id=\"df-2e6c72ce-489b-4ebd-9321-461e49427fd3\">\n",
              "  <button class=\"colab-df-quickchart\" onclick=\"quickchart('df-2e6c72ce-489b-4ebd-9321-461e49427fd3')\"\n",
              "            title=\"Suggest charts\"\n",
              "            style=\"display:none;\">\n",
              "\n",
              "<svg xmlns=\"http://www.w3.org/2000/svg\" height=\"24px\"viewBox=\"0 0 24 24\"\n",
              "     width=\"24px\">\n",
              "    <g>\n",
              "        <path d=\"M19 3H5c-1.1 0-2 .9-2 2v14c0 1.1.9 2 2 2h14c1.1 0 2-.9 2-2V5c0-1.1-.9-2-2-2zM9 17H7v-7h2v7zm4 0h-2V7h2v10zm4 0h-2v-4h2v4z\"/>\n",
              "    </g>\n",
              "</svg>\n",
              "  </button>\n",
              "\n",
              "<style>\n",
              "  .colab-df-quickchart {\n",
              "      --bg-color: #E8F0FE;\n",
              "      --fill-color: #1967D2;\n",
              "      --hover-bg-color: #E2EBFA;\n",
              "      --hover-fill-color: #174EA6;\n",
              "      --disabled-fill-color: #AAA;\n",
              "      --disabled-bg-color: #DDD;\n",
              "  }\n",
              "\n",
              "  [theme=dark] .colab-df-quickchart {\n",
              "      --bg-color: #3B4455;\n",
              "      --fill-color: #D2E3FC;\n",
              "      --hover-bg-color: #434B5C;\n",
              "      --hover-fill-color: #FFFFFF;\n",
              "      --disabled-bg-color: #3B4455;\n",
              "      --disabled-fill-color: #666;\n",
              "  }\n",
              "\n",
              "  .colab-df-quickchart {\n",
              "    background-color: var(--bg-color);\n",
              "    border: none;\n",
              "    border-radius: 50%;\n",
              "    cursor: pointer;\n",
              "    display: none;\n",
              "    fill: var(--fill-color);\n",
              "    height: 32px;\n",
              "    padding: 0;\n",
              "    width: 32px;\n",
              "  }\n",
              "\n",
              "  .colab-df-quickchart:hover {\n",
              "    background-color: var(--hover-bg-color);\n",
              "    box-shadow: 0 1px 2px rgba(60, 64, 67, 0.3), 0 1px 3px 1px rgba(60, 64, 67, 0.15);\n",
              "    fill: var(--button-hover-fill-color);\n",
              "  }\n",
              "\n",
              "  .colab-df-quickchart-complete:disabled,\n",
              "  .colab-df-quickchart-complete:disabled:hover {\n",
              "    background-color: var(--disabled-bg-color);\n",
              "    fill: var(--disabled-fill-color);\n",
              "    box-shadow: none;\n",
              "  }\n",
              "\n",
              "  .colab-df-spinner {\n",
              "    border: 2px solid var(--fill-color);\n",
              "    border-color: transparent;\n",
              "    border-bottom-color: var(--fill-color);\n",
              "    animation:\n",
              "      spin 1s steps(1) infinite;\n",
              "  }\n",
              "\n",
              "  @keyframes spin {\n",
              "    0% {\n",
              "      border-color: transparent;\n",
              "      border-bottom-color: var(--fill-color);\n",
              "      border-left-color: var(--fill-color);\n",
              "    }\n",
              "    20% {\n",
              "      border-color: transparent;\n",
              "      border-left-color: var(--fill-color);\n",
              "      border-top-color: var(--fill-color);\n",
              "    }\n",
              "    30% {\n",
              "      border-color: transparent;\n",
              "      border-left-color: var(--fill-color);\n",
              "      border-top-color: var(--fill-color);\n",
              "      border-right-color: var(--fill-color);\n",
              "    }\n",
              "    40% {\n",
              "      border-color: transparent;\n",
              "      border-right-color: var(--fill-color);\n",
              "      border-top-color: var(--fill-color);\n",
              "    }\n",
              "    60% {\n",
              "      border-color: transparent;\n",
              "      border-right-color: var(--fill-color);\n",
              "    }\n",
              "    80% {\n",
              "      border-color: transparent;\n",
              "      border-right-color: var(--fill-color);\n",
              "      border-bottom-color: var(--fill-color);\n",
              "    }\n",
              "    90% {\n",
              "      border-color: transparent;\n",
              "      border-bottom-color: var(--fill-color);\n",
              "    }\n",
              "  }\n",
              "</style>\n",
              "\n",
              "  <script>\n",
              "    async function quickchart(key) {\n",
              "      const quickchartButtonEl =\n",
              "        document.querySelector('#' + key + ' button');\n",
              "      quickchartButtonEl.disabled = true;  // To prevent multiple clicks.\n",
              "      quickchartButtonEl.classList.add('colab-df-spinner');\n",
              "      try {\n",
              "        const charts = await google.colab.kernel.invokeFunction(\n",
              "            'suggestCharts', [key], {});\n",
              "      } catch (error) {\n",
              "        console.error('Error during call to suggestCharts:', error);\n",
              "      }\n",
              "      quickchartButtonEl.classList.remove('colab-df-spinner');\n",
              "      quickchartButtonEl.classList.add('colab-df-quickchart-complete');\n",
              "    }\n",
              "    (() => {\n",
              "      let quickchartButtonEl =\n",
              "        document.querySelector('#df-2e6c72ce-489b-4ebd-9321-461e49427fd3 button');\n",
              "      quickchartButtonEl.style.display =\n",
              "        google.colab.kernel.accessAllowed ? 'block' : 'none';\n",
              "    })();\n",
              "  </script>\n",
              "</div>\n",
              "    </div>\n",
              "  </div>\n"
            ]
          },
          "metadata": {},
          "execution_count": 3
        }
      ],
      "source": [
        "df_train.head()"
      ]
    },
    {
      "cell_type": "code",
      "execution_count": 4,
      "metadata": {
        "colab": {
          "base_uri": "https://localhost:8080/",
          "height": 206
        },
        "id": "qJthH3fFnCvE",
        "outputId": "7f310136-b87d-4958-f467-89a9dcaf923b"
      },
      "outputs": [
        {
          "output_type": "execute_result",
          "data": {
            "text/plain": [
              "   index                                               text\n",
              "0      1  Mmasepala, fa maemo a a kgethegileng a letlele...\n",
              "1      2  Uzakwaziswa ngokufaneleko nakungafuneka eminye...\n",
              "2      3         Tshivhumbeo tshi fana na ngano dza vhathu.\n",
              "3      4  Kube inja nelikati betingevakala kutsi titsini...\n",
              "4      5                      Winste op buitelandse valuta."
            ],
            "text/html": [
              "\n",
              "  <div id=\"df-03bab70c-e0c8-4fc4-bde9-c9eee6af5f84\" class=\"colab-df-container\">\n",
              "    <div>\n",
              "<style scoped>\n",
              "    .dataframe tbody tr th:only-of-type {\n",
              "        vertical-align: middle;\n",
              "    }\n",
              "\n",
              "    .dataframe tbody tr th {\n",
              "        vertical-align: top;\n",
              "    }\n",
              "\n",
              "    .dataframe thead th {\n",
              "        text-align: right;\n",
              "    }\n",
              "</style>\n",
              "<table border=\"1\" class=\"dataframe\">\n",
              "  <thead>\n",
              "    <tr style=\"text-align: right;\">\n",
              "      <th></th>\n",
              "      <th>index</th>\n",
              "      <th>text</th>\n",
              "    </tr>\n",
              "  </thead>\n",
              "  <tbody>\n",
              "    <tr>\n",
              "      <th>0</th>\n",
              "      <td>1</td>\n",
              "      <td>Mmasepala, fa maemo a a kgethegileng a letlele...</td>\n",
              "    </tr>\n",
              "    <tr>\n",
              "      <th>1</th>\n",
              "      <td>2</td>\n",
              "      <td>Uzakwaziswa ngokufaneleko nakungafuneka eminye...</td>\n",
              "    </tr>\n",
              "    <tr>\n",
              "      <th>2</th>\n",
              "      <td>3</td>\n",
              "      <td>Tshivhumbeo tshi fana na ngano dza vhathu.</td>\n",
              "    </tr>\n",
              "    <tr>\n",
              "      <th>3</th>\n",
              "      <td>4</td>\n",
              "      <td>Kube inja nelikati betingevakala kutsi titsini...</td>\n",
              "    </tr>\n",
              "    <tr>\n",
              "      <th>4</th>\n",
              "      <td>5</td>\n",
              "      <td>Winste op buitelandse valuta.</td>\n",
              "    </tr>\n",
              "  </tbody>\n",
              "</table>\n",
              "</div>\n",
              "    <div class=\"colab-df-buttons\">\n",
              "\n",
              "  <div class=\"colab-df-container\">\n",
              "    <button class=\"colab-df-convert\" onclick=\"convertToInteractive('df-03bab70c-e0c8-4fc4-bde9-c9eee6af5f84')\"\n",
              "            title=\"Convert this dataframe to an interactive table.\"\n",
              "            style=\"display:none;\">\n",
              "\n",
              "  <svg xmlns=\"http://www.w3.org/2000/svg\" height=\"24px\" viewBox=\"0 -960 960 960\">\n",
              "    <path d=\"M120-120v-720h720v720H120Zm60-500h600v-160H180v160Zm220 220h160v-160H400v160Zm0 220h160v-160H400v160ZM180-400h160v-160H180v160Zm440 0h160v-160H620v160ZM180-180h160v-160H180v160Zm440 0h160v-160H620v160Z\"/>\n",
              "  </svg>\n",
              "    </button>\n",
              "\n",
              "  <style>\n",
              "    .colab-df-container {\n",
              "      display:flex;\n",
              "      gap: 12px;\n",
              "    }\n",
              "\n",
              "    .colab-df-convert {\n",
              "      background-color: #E8F0FE;\n",
              "      border: none;\n",
              "      border-radius: 50%;\n",
              "      cursor: pointer;\n",
              "      display: none;\n",
              "      fill: #1967D2;\n",
              "      height: 32px;\n",
              "      padding: 0 0 0 0;\n",
              "      width: 32px;\n",
              "    }\n",
              "\n",
              "    .colab-df-convert:hover {\n",
              "      background-color: #E2EBFA;\n",
              "      box-shadow: 0px 1px 2px rgba(60, 64, 67, 0.3), 0px 1px 3px 1px rgba(60, 64, 67, 0.15);\n",
              "      fill: #174EA6;\n",
              "    }\n",
              "\n",
              "    .colab-df-buttons div {\n",
              "      margin-bottom: 4px;\n",
              "    }\n",
              "\n",
              "    [theme=dark] .colab-df-convert {\n",
              "      background-color: #3B4455;\n",
              "      fill: #D2E3FC;\n",
              "    }\n",
              "\n",
              "    [theme=dark] .colab-df-convert:hover {\n",
              "      background-color: #434B5C;\n",
              "      box-shadow: 0px 1px 3px 1px rgba(0, 0, 0, 0.15);\n",
              "      filter: drop-shadow(0px 1px 2px rgba(0, 0, 0, 0.3));\n",
              "      fill: #FFFFFF;\n",
              "    }\n",
              "  </style>\n",
              "\n",
              "    <script>\n",
              "      const buttonEl =\n",
              "        document.querySelector('#df-03bab70c-e0c8-4fc4-bde9-c9eee6af5f84 button.colab-df-convert');\n",
              "      buttonEl.style.display =\n",
              "        google.colab.kernel.accessAllowed ? 'block' : 'none';\n",
              "\n",
              "      async function convertToInteractive(key) {\n",
              "        const element = document.querySelector('#df-03bab70c-e0c8-4fc4-bde9-c9eee6af5f84');\n",
              "        const dataTable =\n",
              "          await google.colab.kernel.invokeFunction('convertToInteractive',\n",
              "                                                    [key], {});\n",
              "        if (!dataTable) return;\n",
              "\n",
              "        const docLinkHtml = 'Like what you see? Visit the ' +\n",
              "          '<a target=\"_blank\" href=https://colab.research.google.com/notebooks/data_table.ipynb>data table notebook</a>'\n",
              "          + ' to learn more about interactive tables.';\n",
              "        element.innerHTML = '';\n",
              "        dataTable['output_type'] = 'display_data';\n",
              "        await google.colab.output.renderOutput(dataTable, element);\n",
              "        const docLink = document.createElement('div');\n",
              "        docLink.innerHTML = docLinkHtml;\n",
              "        element.appendChild(docLink);\n",
              "      }\n",
              "    </script>\n",
              "  </div>\n",
              "\n",
              "\n",
              "<div id=\"df-cd6d62e3-cd56-482a-8739-4a0b564e8de6\">\n",
              "  <button class=\"colab-df-quickchart\" onclick=\"quickchart('df-cd6d62e3-cd56-482a-8739-4a0b564e8de6')\"\n",
              "            title=\"Suggest charts\"\n",
              "            style=\"display:none;\">\n",
              "\n",
              "<svg xmlns=\"http://www.w3.org/2000/svg\" height=\"24px\"viewBox=\"0 0 24 24\"\n",
              "     width=\"24px\">\n",
              "    <g>\n",
              "        <path d=\"M19 3H5c-1.1 0-2 .9-2 2v14c0 1.1.9 2 2 2h14c1.1 0 2-.9 2-2V5c0-1.1-.9-2-2-2zM9 17H7v-7h2v7zm4 0h-2V7h2v10zm4 0h-2v-4h2v4z\"/>\n",
              "    </g>\n",
              "</svg>\n",
              "  </button>\n",
              "\n",
              "<style>\n",
              "  .colab-df-quickchart {\n",
              "      --bg-color: #E8F0FE;\n",
              "      --fill-color: #1967D2;\n",
              "      --hover-bg-color: #E2EBFA;\n",
              "      --hover-fill-color: #174EA6;\n",
              "      --disabled-fill-color: #AAA;\n",
              "      --disabled-bg-color: #DDD;\n",
              "  }\n",
              "\n",
              "  [theme=dark] .colab-df-quickchart {\n",
              "      --bg-color: #3B4455;\n",
              "      --fill-color: #D2E3FC;\n",
              "      --hover-bg-color: #434B5C;\n",
              "      --hover-fill-color: #FFFFFF;\n",
              "      --disabled-bg-color: #3B4455;\n",
              "      --disabled-fill-color: #666;\n",
              "  }\n",
              "\n",
              "  .colab-df-quickchart {\n",
              "    background-color: var(--bg-color);\n",
              "    border: none;\n",
              "    border-radius: 50%;\n",
              "    cursor: pointer;\n",
              "    display: none;\n",
              "    fill: var(--fill-color);\n",
              "    height: 32px;\n",
              "    padding: 0;\n",
              "    width: 32px;\n",
              "  }\n",
              "\n",
              "  .colab-df-quickchart:hover {\n",
              "    background-color: var(--hover-bg-color);\n",
              "    box-shadow: 0 1px 2px rgba(60, 64, 67, 0.3), 0 1px 3px 1px rgba(60, 64, 67, 0.15);\n",
              "    fill: var(--button-hover-fill-color);\n",
              "  }\n",
              "\n",
              "  .colab-df-quickchart-complete:disabled,\n",
              "  .colab-df-quickchart-complete:disabled:hover {\n",
              "    background-color: var(--disabled-bg-color);\n",
              "    fill: var(--disabled-fill-color);\n",
              "    box-shadow: none;\n",
              "  }\n",
              "\n",
              "  .colab-df-spinner {\n",
              "    border: 2px solid var(--fill-color);\n",
              "    border-color: transparent;\n",
              "    border-bottom-color: var(--fill-color);\n",
              "    animation:\n",
              "      spin 1s steps(1) infinite;\n",
              "  }\n",
              "\n",
              "  @keyframes spin {\n",
              "    0% {\n",
              "      border-color: transparent;\n",
              "      border-bottom-color: var(--fill-color);\n",
              "      border-left-color: var(--fill-color);\n",
              "    }\n",
              "    20% {\n",
              "      border-color: transparent;\n",
              "      border-left-color: var(--fill-color);\n",
              "      border-top-color: var(--fill-color);\n",
              "    }\n",
              "    30% {\n",
              "      border-color: transparent;\n",
              "      border-left-color: var(--fill-color);\n",
              "      border-top-color: var(--fill-color);\n",
              "      border-right-color: var(--fill-color);\n",
              "    }\n",
              "    40% {\n",
              "      border-color: transparent;\n",
              "      border-right-color: var(--fill-color);\n",
              "      border-top-color: var(--fill-color);\n",
              "    }\n",
              "    60% {\n",
              "      border-color: transparent;\n",
              "      border-right-color: var(--fill-color);\n",
              "    }\n",
              "    80% {\n",
              "      border-color: transparent;\n",
              "      border-right-color: var(--fill-color);\n",
              "      border-bottom-color: var(--fill-color);\n",
              "    }\n",
              "    90% {\n",
              "      border-color: transparent;\n",
              "      border-bottom-color: var(--fill-color);\n",
              "    }\n",
              "  }\n",
              "</style>\n",
              "\n",
              "  <script>\n",
              "    async function quickchart(key) {\n",
              "      const quickchartButtonEl =\n",
              "        document.querySelector('#' + key + ' button');\n",
              "      quickchartButtonEl.disabled = true;  // To prevent multiple clicks.\n",
              "      quickchartButtonEl.classList.add('colab-df-spinner');\n",
              "      try {\n",
              "        const charts = await google.colab.kernel.invokeFunction(\n",
              "            'suggestCharts', [key], {});\n",
              "      } catch (error) {\n",
              "        console.error('Error during call to suggestCharts:', error);\n",
              "      }\n",
              "      quickchartButtonEl.classList.remove('colab-df-spinner');\n",
              "      quickchartButtonEl.classList.add('colab-df-quickchart-complete');\n",
              "    }\n",
              "    (() => {\n",
              "      let quickchartButtonEl =\n",
              "        document.querySelector('#df-cd6d62e3-cd56-482a-8739-4a0b564e8de6 button');\n",
              "      quickchartButtonEl.style.display =\n",
              "        google.colab.kernel.accessAllowed ? 'block' : 'none';\n",
              "    })();\n",
              "  </script>\n",
              "</div>\n",
              "    </div>\n",
              "  </div>\n"
            ]
          },
          "metadata": {},
          "execution_count": 4
        }
      ],
      "source": [
        "df_test.head()"
      ]
    },
    {
      "cell_type": "code",
      "execution_count": 5,
      "metadata": {
        "colab": {
          "base_uri": "https://localhost:8080/"
        },
        "id": "A7BrJwirnS_T",
        "outputId": "69341341-b687-4085-9994-d7c307ae3489"
      },
      "outputs": [
        {
          "output_type": "execute_result",
          "data": {
            "text/plain": [
              "(33000, 2)"
            ]
          },
          "metadata": {},
          "execution_count": 5
        }
      ],
      "source": [
        "df_train.shape"
      ]
    },
    {
      "cell_type": "code",
      "execution_count": 6,
      "metadata": {
        "colab": {
          "base_uri": "https://localhost:8080/"
        },
        "id": "43YZH0vrtBTx",
        "outputId": "cefc0323-5c67-4466-efc5-cc0cfb53e045"
      },
      "outputs": [
        {
          "output_type": "execute_result",
          "data": {
            "text/plain": [
              "(5682, 2)"
            ]
          },
          "metadata": {},
          "execution_count": 6
        }
      ],
      "source": [
        "df_test.shape"
      ]
    },
    {
      "cell_type": "code",
      "execution_count": 7,
      "metadata": {
        "colab": {
          "base_uri": "https://localhost:8080/"
        },
        "id": "TooMlrc8uSAt",
        "outputId": "cfcda34b-0370-46ca-ab02-e5a08a2871c3"
      },
      "outputs": [
        {
          "output_type": "stream",
          "name": "stdout",
          "text": [
            "<class 'pandas.core.frame.DataFrame'>\n",
            "RangeIndex: 33000 entries, 0 to 32999\n",
            "Data columns (total 2 columns):\n",
            " #   Column   Non-Null Count  Dtype \n",
            "---  ------   --------------  ----- \n",
            " 0   lang_id  33000 non-null  object\n",
            " 1   text     33000 non-null  object\n",
            "dtypes: object(2)\n",
            "memory usage: 515.8+ KB\n"
          ]
        }
      ],
      "source": [
        "df_train.info()"
      ]
    },
    {
      "cell_type": "code",
      "execution_count": 8,
      "metadata": {
        "colab": {
          "base_uri": "https://localhost:8080/"
        },
        "id": "9PFzpryevgYQ",
        "outputId": "01016f91-48e6-4cb6-cde2-6381ffa2f516"
      },
      "outputs": [
        {
          "output_type": "stream",
          "name": "stdout",
          "text": [
            "<class 'pandas.core.frame.DataFrame'>\n",
            "RangeIndex: 5682 entries, 0 to 5681\n",
            "Data columns (total 2 columns):\n",
            " #   Column  Non-Null Count  Dtype \n",
            "---  ------  --------------  ----- \n",
            " 0   index   5682 non-null   int64 \n",
            " 1   text    5682 non-null   object\n",
            "dtypes: int64(1), object(1)\n",
            "memory usage: 88.9+ KB\n"
          ]
        }
      ],
      "source": [
        "df_test.info()"
      ]
    },
    {
      "cell_type": "code",
      "execution_count": 9,
      "metadata": {
        "colab": {
          "base_uri": "https://localhost:8080/"
        },
        "id": "yXOkEiMZvla0",
        "outputId": "2a10c429-08c4-4e16-d462-63cfa24e7aa4"
      },
      "outputs": [
        {
          "output_type": "execute_result",
          "data": {
            "text/plain": [
              "lang_id    0\n",
              "text       0\n",
              "dtype: int64"
            ]
          },
          "metadata": {},
          "execution_count": 9
        }
      ],
      "source": [
        "df_train.isnull().sum()"
      ]
    },
    {
      "cell_type": "code",
      "execution_count": 10,
      "metadata": {
        "colab": {
          "base_uri": "https://localhost:8080/"
        },
        "id": "LkBqbBXyv9hW",
        "outputId": "b467ab2d-0c59-4ccf-99f9-7345def0a298"
      },
      "outputs": [
        {
          "output_type": "execute_result",
          "data": {
            "text/plain": [
              "index    0\n",
              "text     0\n",
              "dtype: int64"
            ]
          },
          "metadata": {},
          "execution_count": 10
        }
      ],
      "source": [
        "df_test.isnull().sum()"
      ]
    },
    {
      "cell_type": "markdown",
      "metadata": {
        "id": "u7F3_OFGwaxv"
      },
      "source": [
        "### Class Distributions"
      ]
    },
    {
      "cell_type": "code",
      "execution_count": 11,
      "metadata": {
        "colab": {
          "base_uri": "https://localhost:8080/"
        },
        "id": "G2r-enOTwf3O",
        "outputId": "47a6aa3d-a852-489d-b9fe-3d1251298e64"
      },
      "outputs": [
        {
          "output_type": "execute_result",
          "data": {
            "text/plain": [
              "xho    3000\n",
              "eng    3000\n",
              "nso    3000\n",
              "ven    3000\n",
              "tsn    3000\n",
              "nbl    3000\n",
              "zul    3000\n",
              "ssw    3000\n",
              "tso    3000\n",
              "sot    3000\n",
              "afr    3000\n",
              "Name: lang_id, dtype: int64"
            ]
          },
          "metadata": {},
          "execution_count": 11
        }
      ],
      "source": [
        "class_distribution = df_train['lang_id'].value_counts()\n",
        "\n",
        "class_distribution\n"
      ]
    },
    {
      "cell_type": "code",
      "execution_count": 12,
      "metadata": {
        "colab": {
          "base_uri": "https://localhost:8080/",
          "height": 564
        },
        "id": "nSwc5vCb_GDV",
        "outputId": "8cf43fe5-65f2-48ea-83dd-1377840c2f36"
      },
      "outputs": [
        {
          "output_type": "display_data",
          "data": {
            "text/plain": [
              "<Figure size 1000x600 with 1 Axes>"
            ],
            "image/png": "[encoded data removed]"
          },
          "metadata": {}
        }
      ],
      "source": [
        "plt.figure(figsize=(10, 6))\n",
        "sns.countplot(x='lang_id', data=df_train, color='skyblue')\n",
        "plt.title('Class Distribution of Languages in df_train')\n",
        "plt.xlabel('Language ID')\n",
        "plt.ylabel('Count')\n",
        "plt.show()"
      ]
    },
    {
      "cell_type": "markdown",
      "metadata": {
        "id": "XFHuloWpgRYe"
      },
      "source": [
        "# 4. Text Pre-Processing\n",
        "\n",
        "\n",
        "\n"
      ]
    },
    {
      "cell_type": "code",
      "execution_count": 13,
      "metadata": {
        "id": "0K9cSZzpza6k"
      },
      "outputs": [],
      "source": [
        "def text_preprocessing(text):\n",
        "    # Lowercase the text\n",
        "    text = text.lower()\n",
        "    # Remove white spaces\n",
        "    text = text.strip()\n",
        "    return text"
      ]
    },
    {
      "cell_type": "code",
      "execution_count": 14,
      "metadata": {
        "id": "P_x4pu4Ot-wc"
      },
      "outputs": [],
      "source": [
        "df_train['clean_text'] = df_train['text'].apply(text_preprocessing)\n",
        "df_test['clean_text'] = df_test['text'].apply(text_preprocessing)"
      ]
    },
    {
      "cell_type": "markdown",
      "metadata": {
        "id": "eyCeUNt7he-3"
      },
      "source": [
        "# 5. Feature Engineering\n"
      ]
    },
    {
      "cell_type": "code",
      "execution_count": 35,
      "metadata": {
        "colab": {
          "base_uri": "https://localhost:8080/",
          "height": 206
        },
        "id": "1VNaVzkKNUoC",
        "outputId": "19526f62-7451-42ff-a4e8-7279e0f0c9ff"
      },
      "outputs": [
        {
          "output_type": "execute_result",
          "data": {
            "text/plain": [
              "  lang_id                                               text  \\\n",
              "0     xho  umgaqo-siseko wenza amalungiselelo kumaziko ax...   \n",
              "1     xho  i-dha iya kuba nobulumko bokubeka umsebenzi na...   \n",
              "2     eng  the province of kwazulu-natal department of tr...   \n",
              "3     nso  o netefatša gore o ba file dilo ka moka tše le...   \n",
              "4     ven  khomishini ya ndinganyiso ya mbeu yo ewa maana...   \n",
              "\n",
              "                                          clean_text  \n",
              "0  umgaqo-siseko wenza amalungiselelo kumaziko ax...  \n",
              "1  i-dha iya kuba nobulumko bokubeka umsebenzi na...  \n",
              "2  the province of kwazulu-natal department of tr...  \n",
              "3  o netefatša gore o ba file dilo ka moka tše le...  \n",
              "4  khomishini ya ndinganyiso ya mbeu yo ewa maana...  "
            ],
            "text/html": [
              "\n",
              "  <div id=\"df-2d6b09f7-b553-418c-ad11-e40be8119862\" class=\"colab-df-container\">\n",
              "    <div>\n",
              "<style scoped>\n",
              "    .dataframe tbody tr th:only-of-type {\n",
              "        vertical-align: middle;\n",
              "    }\n",
              "\n",
              "    .dataframe tbody tr th {\n",
              "        vertical-align: top;\n",
              "    }\n",
              "\n",
              "    .dataframe thead th {\n",
              "        text-align: right;\n",
              "    }\n",
              "</style>\n",
              "<table border=\"1\" class=\"dataframe\">\n",
              "  <thead>\n",
              "    <tr style=\"text-align: right;\">\n",
              "      <th></th>\n",
              "      <th>lang_id</th>\n",
              "      <th>text</th>\n",
              "      <th>clean_text</th>\n",
              "    </tr>\n",
              "  </thead>\n",
              "  <tbody>\n",
              "    <tr>\n",
              "      <th>0</th>\n",
              "      <td>xho</td>\n",
              "      <td>umgaqo-siseko wenza amalungiselelo kumaziko ax...</td>\n",
              "      <td>umgaqo-siseko wenza amalungiselelo kumaziko ax...</td>\n",
              "    </tr>\n",
              "    <tr>\n",
              "      <th>1</th>\n",
              "      <td>xho</td>\n",
              "      <td>i-dha iya kuba nobulumko bokubeka umsebenzi na...</td>\n",
              "      <td>i-dha iya kuba nobulumko bokubeka umsebenzi na...</td>\n",
              "    </tr>\n",
              "    <tr>\n",
              "      <th>2</th>\n",
              "      <td>eng</td>\n",
              "      <td>the province of kwazulu-natal department of tr...</td>\n",
              "      <td>the province of kwazulu-natal department of tr...</td>\n",
              "    </tr>\n",
              "    <tr>\n",
              "      <th>3</th>\n",
              "      <td>nso</td>\n",
              "      <td>o netefatša gore o ba file dilo ka moka tše le...</td>\n",
              "      <td>o netefatša gore o ba file dilo ka moka tše le...</td>\n",
              "    </tr>\n",
              "    <tr>\n",
              "      <th>4</th>\n",
              "      <td>ven</td>\n",
              "      <td>khomishini ya ndinganyiso ya mbeu yo ewa maana...</td>\n",
              "      <td>khomishini ya ndinganyiso ya mbeu yo ewa maana...</td>\n",
              "    </tr>\n",
              "  </tbody>\n",
              "</table>\n",
              "</div>\n",
              "    <div class=\"colab-df-buttons\">\n",
              "\n",
              "  <div class=\"colab-df-container\">\n",
              "    <button class=\"colab-df-convert\" onclick=\"convertToInteractive('df-2d6b09f7-b553-418c-ad11-e40be8119862')\"\n",
              "            title=\"Convert this dataframe to an interactive table.\"\n",
              "            style=\"display:none;\">\n",
              "\n",
              "  <svg xmlns=\"http://www.w3.org/2000/svg\" height=\"24px\" viewBox=\"0 -960 960 960\">\n",
              "    <path d=\"M120-120v-720h720v720H120Zm60-500h600v-160H180v160Zm220 220h160v-160H400v160Zm0 220h160v-160H400v160ZM180-400h160v-160H180v160Zm440 0h160v-160H620v160ZM180-180h160v-160H180v160Zm440 0h160v-160H620v160Z\"/>\n",
              "  </svg>\n",
              "    </button>\n",
              "\n",
              "  <style>\n",
              "    .colab-df-container {\n",
              "      display:flex;\n",
              "      gap: 12px;\n",
              "    }\n",
              "\n",
              "    .colab-df-convert {\n",
              "      background-color: #E8F0FE;\n",
              "      border: none;\n",
              "      border-radius: 50%;\n",
              "      cursor: pointer;\n",
              "      display: none;\n",
              "      fill: #1967D2;\n",
              "      height: 32px;\n",
              "      padding: 0 0 0 0;\n",
              "      width: 32px;\n",
              "    }\n",
              "\n",
              "    .colab-df-convert:hover {\n",
              "      background-color: #E2EBFA;\n",
              "      box-shadow: 0px 1px 2px rgba(60, 64, 67, 0.3), 0px 1px 3px 1px rgba(60, 64, 67, 0.15);\n",
              "      fill: #174EA6;\n",
              "    }\n",
              "\n",
              "    .colab-df-buttons div {\n",
              "      margin-bottom: 4px;\n",
              "    }\n",
              "\n",
              "    [theme=dark] .colab-df-convert {\n",
              "      background-color: #3B4455;\n",
              "      fill: #D2E3FC;\n",
              "    }\n",
              "\n",
              "    [theme=dark] .colab-df-convert:hover {\n",
              "      background-color: #434B5C;\n",
              "      box-shadow: 0px 1px 3px 1px rgba(0, 0, 0, 0.15);\n",
              "      filter: drop-shadow(0px 1px 2px rgba(0, 0, 0, 0.3));\n",
              "      fill: #FFFFFF;\n",
              "    }\n",
              "  </style>\n",
              "\n",
              "    <script>\n",
              "      const buttonEl =\n",
              "        document.querySelector('#df-2d6b09f7-b553-418c-ad11-e40be8119862 button.colab-df-convert');\n",
              "      buttonEl.style.display =\n",
              "        google.colab.kernel.accessAllowed ? 'block' : 'none';\n",
              "\n",
              "      async function convertToInteractive(key) {\n",
              "        const element = document.querySelector('#df-2d6b09f7-b553-418c-ad11-e40be8119862');\n",
              "        const dataTable =\n",
              "          await google.colab.kernel.invokeFunction('convertToInteractive',\n",
              "                                                    [key], {});\n",
              "        if (!dataTable) return;\n",
              "\n",
              "        const docLinkHtml = 'Like what you see? Visit the ' +\n",
              "          '<a target=\"_blank\" href=https://colab.research.google.com/notebooks/data_table.ipynb>data table notebook</a>'\n",
              "          + ' to learn more about interactive tables.';\n",
              "        element.innerHTML = '';\n",
              "        dataTable['output_type'] = 'display_data';\n",
              "        await google.colab.output.renderOutput(dataTable, element);\n",
              "        const docLink = document.createElement('div');\n",
              "        docLink.innerHTML = docLinkHtml;\n",
              "        element.appendChild(docLink);\n",
              "      }\n",
              "    </script>\n",
              "  </div>\n",
              "\n",
              "\n",
              "<div id=\"df-cb61e5d9-0db1-4ae5-acf3-d26336b222f8\">\n",
              "  <button class=\"colab-df-quickchart\" onclick=\"quickchart('df-cb61e5d9-0db1-4ae5-acf3-d26336b222f8')\"\n",
              "            title=\"Suggest charts\"\n",
              "            style=\"display:none;\">\n",
              "\n",
              "<svg xmlns=\"http://www.w3.org/2000/svg\" height=\"24px\"viewBox=\"0 0 24 24\"\n",
              "     width=\"24px\">\n",
              "    <g>\n",
              "        <path d=\"M19 3H5c-1.1 0-2 .9-2 2v14c0 1.1.9 2 2 2h14c1.1 0 2-.9 2-2V5c0-1.1-.9-2-2-2zM9 17H7v-7h2v7zm4 0h-2V7h2v10zm4 0h-2v-4h2v4z\"/>\n",
              "    </g>\n",
              "</svg>\n",
              "  </button>\n",
              "\n",
              "<style>\n",
              "  .colab-df-quickchart {\n",
              "      --bg-color: #E8F0FE;\n",
              "      --fill-color: #1967D2;\n",
              "      --hover-bg-color: #E2EBFA;\n",
              "      --hover-fill-color: #174EA6;\n",
              "      --disabled-fill-color: #AAA;\n",
              "      --disabled-bg-color: #DDD;\n",
              "  }\n",
              "\n",
              "  [theme=dark] .colab-df-quickchart {\n",
              "      --bg-color: #3B4455;\n",
              "      --fill-color: #D2E3FC;\n",
              "      --hover-bg-color: #434B5C;\n",
              "      --hover-fill-color: #FFFFFF;\n",
              "      --disabled-bg-color: #3B4455;\n",
              "      --disabled-fill-color: #666;\n",
              "  }\n",
              "\n",
              "  .colab-df-quickchart {\n",
              "    background-color: var(--bg-color);\n",
              "    border: none;\n",
              "    border-radius: 50%;\n",
              "    cursor: pointer;\n",
              "    display: none;\n",
              "    fill: var(--fill-color);\n",
              "    height: 32px;\n",
              "    padding: 0;\n",
              "    width: 32px;\n",
              "  }\n",
              "\n",
              "  .colab-df-quickchart:hover {\n",
              "    background-color: var(--hover-bg-color);\n",
              "    box-shadow: 0 1px 2px rgba(60, 64, 67, 0.3), 0 1px 3px 1px rgba(60, 64, 67, 0.15);\n",
              "    fill: var(--button-hover-fill-color);\n",
              "  }\n",
              "\n",
              "  .colab-df-quickchart-complete:disabled,\n",
              "  .colab-df-quickchart-complete:disabled:hover {\n",
              "    background-color: var(--disabled-bg-color);\n",
              "    fill: var(--disabled-fill-color);\n",
              "    box-shadow: none;\n",
              "  }\n",
              "\n",
              "  .colab-df-spinner {\n",
              "    border: 2px solid var(--fill-color);\n",
              "    border-color: transparent;\n",
              "    border-bottom-color: var(--fill-color);\n",
              "    animation:\n",
              "      spin 1s steps(1) infinite;\n",
              "  }\n",
              "\n",
              "  @keyframes spin {\n",
              "    0% {\n",
              "      border-color: transparent;\n",
              "      border-bottom-color: var(--fill-color);\n",
              "      border-left-color: var(--fill-color);\n",
              "    }\n",
              "    20% {\n",
              "      border-color: transparent;\n",
              "      border-left-color: var(--fill-color);\n",
              "      border-top-color: var(--fill-color);\n",
              "    }\n",
              "    30% {\n",
              "      border-color: transparent;\n",
              "      border-left-color: var(--fill-color);\n",
              "      border-top-color: var(--fill-color);\n",
              "      border-right-color: var(--fill-color);\n",
              "    }\n",
              "    40% {\n",
              "      border-color: transparent;\n",
              "      border-right-color: var(--fill-color);\n",
              "      border-top-color: var(--fill-color);\n",
              "    }\n",
              "    60% {\n",
              "      border-color: transparent;\n",
              "      border-right-color: var(--fill-color);\n",
              "    }\n",
              "    80% {\n",
              "      border-color: transparent;\n",
              "      border-right-color: var(--fill-color);\n",
              "      border-bottom-color: var(--fill-color);\n",
              "    }\n",
              "    90% {\n",
              "      border-color: transparent;\n",
              "      border-bottom-color: var(--fill-color);\n",
              "    }\n",
              "  }\n",
              "</style>\n",
              "\n",
              "  <script>\n",
              "    async function quickchart(key) {\n",
              "      const quickchartButtonEl =\n",
              "        document.querySelector('#' + key + ' button');\n",
              "      quickchartButtonEl.disabled = true;  // To prevent multiple clicks.\n",
              "      quickchartButtonEl.classList.add('colab-df-spinner');\n",
              "      try {\n",
              "        const charts = await google.colab.kernel.invokeFunction(\n",
              "            'suggestCharts', [key], {});\n",
              "      } catch (error) {\n",
              "        console.error('Error during call to suggestCharts:', error);\n",
              "      }\n",
              "      quickchartButtonEl.classList.remove('colab-df-spinner');\n",
              "      quickchartButtonEl.classList.add('colab-df-quickchart-complete');\n",
              "    }\n",
              "    (() => {\n",
              "      let quickchartButtonEl =\n",
              "        document.querySelector('#df-cb61e5d9-0db1-4ae5-acf3-d26336b222f8 button');\n",
              "      quickchartButtonEl.style.display =\n",
              "        google.colab.kernel.accessAllowed ? 'block' : 'none';\n",
              "    })();\n",
              "  </script>\n",
              "</div>\n",
              "    </div>\n",
              "  </div>\n"
            ]
          },
          "metadata": {},
          "execution_count": 35
        }
      ],
      "source": [
        "df_train.head()"
      ]
    },
    {
      "cell_type": "code",
      "execution_count": 17,
      "metadata": {
        "id": "GB_GOhjrNa1R"
      },
      "outputs": [],
      "source": [
        "X = df_train['clean_text']\n",
        "Y = df_train['lang_id']"
      ]
    },
    {
      "cell_type": "markdown",
      "metadata": {
        "id": "69sxlTc3N2R6"
      },
      "source": [
        "## Train Test Split"
      ]
    },
    {
      "cell_type": "code",
      "execution_count": 18,
      "metadata": {
        "id": "OndfcQjgN6yi"
      },
      "outputs": [],
      "source": [
        "X_train , X_test , y_train , y_test = train_test_split(X , Y, test_size =0.2, random_state=42)"
      ]
    },
    {
      "cell_type": "markdown",
      "metadata": {
        "id": "hDReh-i9hwGF"
      },
      "source": [
        "# 6. Model Training"
      ]
    },
    {
      "cell_type": "markdown",
      "metadata": {
        "id": "XoLeSJW8TQ9R"
      },
      "source": [
        "### 7.1 Logistic Regression"
      ]
    },
    {
      "cell_type": "code",
      "execution_count": 38,
      "metadata": {
        "colab": {
          "base_uri": "https://localhost:8080/"
        },
        "id": "fWR3VUxEhzDE",
        "outputId": "6a5ebc66-eeb7-46ec-e4f5-491910452fd5"
      },
      "outputs": [
        {
          "output_type": "stream",
          "name": "stdout",
          "text": [
            "Accuracy: 0.998484848\n",
            "\n",
            "Classification Report:\n",
            "              precision    recall  f1-score   support\n",
            "\n",
            "         afr       1.00      1.00      1.00       583\n",
            "         eng       1.00      1.00      1.00       615\n",
            "         nbl       0.99      1.00      1.00       583\n",
            "         nso       1.00      1.00      1.00       625\n",
            "         sot       1.00      1.00      1.00       618\n",
            "         ssw       1.00      1.00      1.00       584\n",
            "         tsn       1.00      1.00      1.00       598\n",
            "         tso       1.00      1.00      1.00       561\n",
            "         ven       1.00      1.00      1.00       634\n",
            "         xho       1.00      1.00      1.00       609\n",
            "         zul       0.99      0.99      0.99       590\n",
            "\n",
            "    accuracy                           1.00      6600\n",
            "   macro avg       1.00      1.00      1.00      6600\n",
            "weighted avg       1.00      1.00      1.00      6600\n",
            "\n"
          ]
        }
      ],
      "source": [
        "from sklearn.feature_extraction.text import TfidfVectorizer\n",
        "\n",
        "vectorizer = TfidfVectorizer(ngram_range=(1, 6),\n",
        "                             analyzer='char',)\n",
        "\n",
        "\n",
        "# Create a Logistic Regression model\n",
        "logistic_regression_model = LogisticRegression(max_iter=5000, random_state=42, class_weight = None, intercept_scaling= 1)\n",
        "\n",
        "# Create a pipeline with the vectorizer and the logistic regression model\n",
        "lg_pipeline = make_pipeline(vectorizer, logistic_regression_model)\n",
        "\n",
        "# Fit the model on the training data\n",
        "lg_pipeline.fit(X_train, y_train)\n",
        "\n",
        "# Predictions on the test set\n",
        "y_pred = lg_pipeline.predict(X_test)\n",
        "\n",
        "# Evaluate the model\n",
        "accuracy = accuracy_score(y_test, y_pred)\n",
        "conf_matrix = confusion_matrix(y_test, y_pred)\n",
        "classification_rep = classification_report(y_test, y_pred)\n",
        "\n",
        "# Print the results\n",
        "print(f\"Accuracy: {accuracy:.9f}\")\n",
        "print(\"\\nClassification Report:\")\n",
        "print(classification_rep)"
      ]
    },
    {
      "cell_type": "code",
      "execution_count": 39,
      "metadata": {
        "id": "hbQ5_x0s7osP",
        "colab": {
          "base_uri": "https://localhost:8080/"
        },
        "outputId": "696279a5-a415-45a4-f844-66b2a9ccaeb4"
      },
      "outputs": [
        {
          "output_type": "stream",
          "name": "stdout",
          "text": [
            "Accuracy: 0.994848485\n",
            "\n",
            "Classification Report:\n",
            "              precision    recall  f1-score   support\n",
            "\n",
            "         afr       1.00      0.99      1.00       583\n",
            "         eng       1.00      1.00      1.00       615\n",
            "         nbl       0.99      0.98      0.99       583\n",
            "         nso       1.00      1.00      1.00       625\n",
            "         sot       1.00      1.00      1.00       618\n",
            "         ssw       0.99      1.00      0.99       584\n",
            "         tsn       1.00      1.00      1.00       598\n",
            "         tso       1.00      1.00      1.00       561\n",
            "         ven       1.00      1.00      1.00       634\n",
            "         xho       0.99      0.99      0.99       609\n",
            "         zul       0.98      0.98      0.98       590\n",
            "\n",
            "    accuracy                           0.99      6600\n",
            "   macro avg       0.99      0.99      0.99      6600\n",
            "weighted avg       0.99      0.99      0.99      6600\n",
            "\n"
          ]
        }
      ],
      "source": [
        "from sklearn.feature_extraction.text import TfidfVectorizer\n",
        "\n",
        "vectorizer = TfidfVectorizer(ngram_range=(1, 2))\n",
        "\n",
        "\n",
        "# Create a Logistic Regression model\n",
        "logistic_regression_model = LogisticRegression(max_iter=5000, random_state=42)\n",
        "\n",
        "# Create a pipeline with the vectorizer and the logistic regression model\n",
        "lg_pipeline = make_pipeline(vectorizer, logistic_regression_model)\n",
        "\n",
        "# Fit the model on the training data\n",
        "lg_pipeline.fit(X_train, y_train)\n",
        "\n",
        "# Predictions on the test set\n",
        "y_pred = lg_pipeline.predict(X_test)\n",
        "\n",
        "# Evaluate the model\n",
        "accuracy = accuracy_score(y_test, y_pred)\n",
        "conf_matrix = confusion_matrix(y_test, y_pred)\n",
        "classification_rep = classification_report(y_test, y_pred)\n",
        "\n",
        "# Print the results\n",
        "print(f\"Accuracy: {accuracy:.9f}\")\n",
        "print(\"\\nClassification Report:\")\n",
        "print(classification_rep)"
      ]
    },
    {
      "cell_type": "code",
      "execution_count": 39,
      "metadata": {
        "id": "WV9TM1aFul3-"
      },
      "outputs": [],
      "source": []
    },
    {
      "cell_type": "markdown",
      "metadata": {
        "id": "UdpNNtXiTjIS"
      },
      "source": [
        "### 7.2 SVM"
      ]
    },
    {
      "cell_type": "code",
      "execution_count": 44,
      "metadata": {
        "id": "EiFuqGcNTmZJ",
        "colab": {
          "base_uri": "https://localhost:8080/"
        },
        "outputId": "12e5320d-d7fe-4093-b587-83f860f103b0"
      },
      "outputs": [
        {
          "output_type": "stream",
          "name": "stdout",
          "text": [
            "Accuracy: 1.00\n",
            "\n",
            "Classification Report:\n",
            "               precision    recall  f1-score   support\n",
            "\n",
            "         afr       1.00      0.99      1.00       583\n",
            "         eng       1.00      1.00      1.00       615\n",
            "         nbl       0.99      0.99      0.99       583\n",
            "         nso       1.00      0.99      1.00       625\n",
            "         sot       1.00      1.00      1.00       618\n",
            "         ssw       1.00      1.00      1.00       584\n",
            "         tsn       1.00      1.00      1.00       598\n",
            "         tso       1.00      1.00      1.00       561\n",
            "         ven       1.00      1.00      1.00       634\n",
            "         xho       1.00      1.00      1.00       609\n",
            "         zul       0.98      0.99      0.98       590\n",
            "\n",
            "    accuracy                           1.00      6600\n",
            "   macro avg       1.00      1.00      1.00      6600\n",
            "weighted avg       1.00      1.00      1.00      6600\n",
            "\n",
            "      index lang_id\n",
            "0         1     zul\n",
            "1         2     nbl\n",
            "2         3     ven\n",
            "3         4     ssw\n",
            "4         5     zul\n",
            "...     ...     ...\n",
            "5677   5678     xho\n",
            "5678   5679     nso\n",
            "5679   5680     sot\n",
            "5680   5681     sot\n",
            "5681   5682     ssw\n",
            "\n",
            "[5682 rows x 2 columns]\n"
          ]
        }
      ],
      "source": [
        "import pandas as pd\n",
        "from sklearn.model_selection import train_test_split\n",
        "from sklearn.feature_extraction.text import TfidfVectorizer\n",
        "from sklearn.svm import SVC\n",
        "from sklearn.metrics import classification_report, accuracy_score\n",
        "\n",
        "\n",
        "\n",
        "# TF-IDF vectorization\n",
        "tfidf_vectorizer = TfidfVectorizer()\n",
        "X_train_tfidf = tfidf_vectorizer.fit_transform(X_train)\n",
        "X_test_tfidf = tfidf_vectorizer.transform(X_test)\n",
        "\n",
        "# Create a pipeline with SVM classifier\n",
        "svm_model = SVC(kernel='linear', C=1.0, probability=True)\n",
        "\n",
        "# Fit the model on the TF-IDF transformed training data\n",
        "svm_model.fit(X_train_tfidf, y_train)\n",
        "\n",
        "# Make predictions on the TF-IDF transformed test set\n",
        "y_pred = svm_model.predict(X_test_tfidf)\n",
        "\n",
        "# Evaluate the model\n",
        "accuracy = accuracy_score(y_test, y_pred)\n",
        "classification_report_output = classification_report(y_test, y_pred)\n",
        "\n",
        "# Print results\n",
        "print(f\"Accuracy: {accuracy:.9f}\")\n",
        "print(\"\\nClassification Report:\\n\", classification_report_output)\n",
        "\n",
        "\n"
      ]
    },
    {
      "cell_type": "markdown",
      "metadata": {
        "id": "R00Eu3GXwX4e"
      },
      "source": [
        "## 7.3 Random forest"
      ]
    },
    {
      "cell_type": "code",
      "execution_count": 45,
      "metadata": {
        "id": "wf_yAi0HwaXY",
        "colab": {
          "base_uri": "https://localhost:8080/"
        },
        "outputId": "3db98665-3521-4e84-d7b4-6dc98a34c740"
      },
      "outputs": [
        {
          "output_type": "stream",
          "name": "stdout",
          "text": [
            "Accuracy: 0.99\n",
            "\n",
            "Classification Report:\n",
            "               precision    recall  f1-score   support\n",
            "\n",
            "         afr       1.00      1.00      1.00       583\n",
            "         eng       0.99      1.00      1.00       615\n",
            "         nbl       0.97      0.96      0.96       583\n",
            "         nso       1.00      1.00      1.00       625\n",
            "         sot       0.99      1.00      1.00       618\n",
            "         ssw       0.99      0.98      0.99       584\n",
            "         tsn       1.00      0.99      0.99       598\n",
            "         tso       1.00      1.00      1.00       561\n",
            "         ven       1.00      1.00      1.00       634\n",
            "         xho       0.99      0.97      0.98       609\n",
            "         zul       0.93      0.96      0.94       590\n",
            "\n",
            "    accuracy                           0.99      6600\n",
            "   macro avg       0.99      0.99      0.99      6600\n",
            "weighted avg       0.99      0.99      0.99      6600\n",
            "\n",
            "      index lang_id\n",
            "0         1     tsn\n",
            "1         2     nbl\n",
            "2         3     ven\n",
            "3         4     ssw\n",
            "4         5     afr\n",
            "...     ...     ...\n",
            "5677   5678     eng\n",
            "5678   5679     nso\n",
            "5679   5680     sot\n",
            "5680   5681     sot\n",
            "5681   5682     tso\n",
            "\n",
            "[5682 rows x 2 columns]\n"
          ]
        }
      ],
      "source": [
        "import pandas as pd\n",
        "from sklearn.model_selection import train_test_split\n",
        "from sklearn.feature_extraction.text import TfidfVectorizer\n",
        "from sklearn.ensemble import RandomForestClassifier\n",
        "from sklearn.metrics import classification_report, accuracy_score\n",
        "\n",
        "\n",
        "\n",
        "# TF-IDF vectorization\n",
        "tfidf_vectorizer = TfidfVectorizer()\n",
        "X_train_tfidf = tfidf_vectorizer.fit_transform(X_train)\n",
        "X_test_tfidf = tfidf_vectorizer.transform(X_test)\n",
        "\n",
        "# Create a Random Forest classifier\n",
        "rf_model = RandomForestClassifier(n_estimators=100, random_state=42)\n",
        "\n",
        "# Fit the model on the TF-IDF transformed training data\n",
        "rf_model.fit(X_train_tfidf, y_train)\n",
        "\n",
        "# Make predictions on the TF-IDF transformed test set\n",
        "y_pred = rf_model.predict(X_test_tfidf)\n",
        "\n",
        "# Evaluate the model\n",
        "accuracy = accuracy_score(y_test, y_pred)\n",
        "classification_report_output = classification_report(y_test, y_pred)\n",
        "\n",
        "# Print results\n",
        "print(f\"Accuracy: {accuracy:.9f}\")\n",
        "print(\"\\nClassification Report:\\n\", classification_report_output)\n",
        "\n",
        "\n"
      ]
    },
    {
      "cell_type": "markdown",
      "metadata": {
        "id": "IP6XfmEzxq5N"
      },
      "source": [
        "##7.4 Decision Tree"
      ]
    },
    {
      "cell_type": "code",
      "execution_count": 46,
      "metadata": {
        "id": "P7wlJJ3tx6Ji",
        "colab": {
          "base_uri": "https://localhost:8080/"
        },
        "outputId": "42c22b0b-c198-472a-ccae-6d86c5a6f2c5"
      },
      "outputs": [
        {
          "output_type": "stream",
          "name": "stdout",
          "text": [
            "Accuracy: 0.94\n",
            "\n",
            "Classification Report:\n",
            "               precision    recall  f1-score   support\n",
            "\n",
            "         afr       0.99      0.99      0.99       583\n",
            "         eng       0.99      1.00      0.99       615\n",
            "         nbl       0.88      0.88      0.88       583\n",
            "         nso       0.99      0.97      0.98       625\n",
            "         sot       0.96      0.98      0.97       618\n",
            "         ssw       0.85      0.88      0.87       584\n",
            "         tsn       0.97      0.97      0.97       598\n",
            "         tso       0.98      0.99      0.98       561\n",
            "         ven       1.00      0.99      0.99       634\n",
            "         xho       0.94      0.88      0.91       609\n",
            "         zul       0.84      0.85      0.85       590\n",
            "\n",
            "    accuracy                           0.94      6600\n",
            "   macro avg       0.94      0.94      0.94      6600\n",
            "weighted avg       0.95      0.94      0.94      6600\n",
            "\n",
            "      index lang_id\n",
            "0         1     ssw\n",
            "1         2     ssw\n",
            "2         3     ven\n",
            "3         4     ssw\n",
            "4         5     ssw\n",
            "...     ...     ...\n",
            "5677   5678     ssw\n",
            "5678   5679     nso\n",
            "5679   5680     sot\n",
            "5680   5681     sot\n",
            "5681   5682     tso\n",
            "\n",
            "[5682 rows x 2 columns]\n"
          ]
        }
      ],
      "source": [
        "import pandas as pd\n",
        "from sklearn.model_selection import train_test_split\n",
        "from sklearn.feature_extraction.text import TfidfVectorizer\n",
        "from sklearn.tree import DecisionTreeClassifier\n",
        "from sklearn.metrics import classification_report, accuracy_score\n",
        "\n",
        "\n",
        "\n",
        "# TF-IDF vectorization\n",
        "tfidf_vectorizer = TfidfVectorizer()\n",
        "X_train_tfidf = tfidf_vectorizer.fit_transform(X_train)\n",
        "X_test_tfidf = tfidf_vectorizer.transform(X_test)\n",
        "\n",
        "# Create a Decision Tree classifier\n",
        "dt_model = DecisionTreeClassifier(random_state=42)\n",
        "\n",
        "# Fit the model on the TF-IDF transformed training data\n",
        "dt_model.fit(X_train_tfidf, y_train)\n",
        "\n",
        "# Make predictions on the TF-IDF transformed test set\n",
        "y_pred = dt_model.predict(X_test_tfidf)\n",
        "\n",
        "# Evaluate the model\n",
        "accuracy = accuracy_score(y_test, y_pred)\n",
        "classification_report_output = classification_report(y_test, y_pred)\n",
        "\n",
        "# Print results\n",
        "print(f\"Accuracy: {accuracy:.2f}\")\n",
        "print(\"\\nClassification Report:\\n\", classification_report_output)\n",
        "\n",
        "# Make predictions on the TF-IDF transformed test set for submission\n",
        "X_test_submission_tfidf = tfidf_vectorizer.transform(df_test['clean_text'])\n",
        "y_test_pred = dt_model.predict(X_test_submission_tfidf)\n",
        "\n",
        "# Create a DataFrame for submission\n",
        "submission_df = pd.DataFrame({'index': df_test['index'], 'lang_id': y_test_pred})\n",
        "\n",
        "# Print the submission DataFrame\n",
        "print(submission_df)\n"
      ]
    },
    {
      "cell_type": "markdown",
      "metadata": {
        "id": "u-9rpSdIx74o"
      },
      "source": [
        "##7.5 MLP"
      ]
    },
    {
      "cell_type": "code",
      "source": [
        "import pandas as pd\n",
        "from sklearn.model_selection import train_test_split\n",
        "from sklearn.feature_extraction.text import TfidfVectorizer\n",
        "from sklearn.neural_network import MLPClassifier\n",
        "from sklearn.metrics import classification_report, accuracy_score\n",
        "\n",
        "\n",
        "\n",
        "# TF-IDF vectorization\n",
        "tfidf_vectorizer = TfidfVectorizer()\n",
        "X_train_tfidf = tfidf_vectorizer.fit_transform(X_train)\n",
        "X_test_tfidf = tfidf_vectorizer.transform(X_test)\n",
        "\n",
        "# Create an MLP classifier\n",
        "mlp_model = MLPClassifier(hidden_layer_sizes=(100,), max_iter=500, random_state=42)\n",
        "\n",
        "# Fit the model on the TF-IDF transformed training data\n",
        "mlp_model.fit(X_train_tfidf, y_train)\n",
        "\n",
        "# Make predictions on the TF-IDF transformed test set\n",
        "y_pred = mlp_model.predict(X_test_tfidf)\n",
        "\n",
        "# Evaluate the model\n",
        "accuracy = accuracy_score(y_test, y_pred)\n",
        "classification_report_output = classification_report(y_test, y_pred)\n",
        "\n",
        "# Print results\n",
        "print(f\"Accuracy: {accuracy:.9f}\")\n",
        "print(\"\\nClassification Report:\\n\", classification_report_output)\n",
        "\n",
        "\n"
      ],
      "metadata": {
        "colab": {
          "base_uri": "https://localhost:8080/"
        },
        "id": "f9z9ATg1KW9i",
        "outputId": "9c086bc8-908c-4864-ac4d-8d9fb7f77671"
      },
      "execution_count": 19,
      "outputs": [
        {
          "output_type": "stream",
          "name": "stderr",
          "text": [
            "/usr/local/lib/python3.10/dist-packages/sklearn/neural_network/_multilayer_perceptron.py:693: UserWarning: Training interrupted by user.\n",
            "  warnings.warn(\"Training interrupted by user.\")\n"
          ]
        },
        {
          "output_type": "stream",
          "name": "stdout",
          "text": [
            "Accuracy: 0.998636364\n",
            "\n",
            "Classification Report:\n",
            "               precision    recall  f1-score   support\n",
            "\n",
            "         afr       1.00      1.00      1.00       583\n",
            "         eng       1.00      1.00      1.00       615\n",
            "         nbl       1.00      1.00      1.00       583\n",
            "         nso       1.00      1.00      1.00       625\n",
            "         sot       1.00      1.00      1.00       618\n",
            "         ssw       1.00      1.00      1.00       584\n",
            "         tsn       1.00      1.00      1.00       598\n",
            "         tso       1.00      1.00      1.00       561\n",
            "         ven       1.00      1.00      1.00       634\n",
            "         xho       1.00      1.00      1.00       609\n",
            "         zul       1.00      1.00      1.00       590\n",
            "\n",
            "    accuracy                           1.00      6600\n",
            "   macro avg       1.00      1.00      1.00      6600\n",
            "weighted avg       1.00      1.00      1.00      6600\n",
            "\n"
          ]
        }
      ]
    },
    {
      "cell_type": "markdown",
      "source": [
        "##Model Selection\n",
        "- The model with the highest accuracy is the MLP Classifier.\n",
        "- The accuracy was (0.998636364)"
      ],
      "metadata": {
        "id": "Qvmyp1ZYvsc-"
      }
    },
    {
      "cell_type": "markdown",
      "metadata": {
        "id": "bKu0C4W5iQIn"
      },
      "source": [
        "# 8. Submissions"
      ]
    },
    {
      "cell_type": "code",
      "execution_count": 21,
      "metadata": {
        "id": "M02u3H9KiToB",
        "colab": {
          "base_uri": "https://localhost:8080/"
        },
        "outputId": "acbb119e-c7f3-43e1-a85a-44c6514f26f3"
      },
      "outputs": [
        {
          "output_type": "stream",
          "name": "stdout",
          "text": [
            "      index lang_id\n",
            "0         1     tsn\n",
            "1         2     nbl\n",
            "2         3     ven\n",
            "3         4     ssw\n",
            "4         5     afr\n",
            "...     ...     ...\n",
            "5677   5678     eng\n",
            "5678   5679     nso\n",
            "5679   5680     sot\n",
            "5680   5681     sot\n",
            "5681   5682     xho\n",
            "\n",
            "[5682 rows x 2 columns]\n"
          ]
        }
      ],
      "source": [
        "X_test_df = df_test['clean_text']\n",
        "\n",
        "# TF-IDF vectorization for the test set\n",
        "X_test_submission_tfidf = tfidf_vectorizer.transform(X_test_df)\n",
        "\n",
        "# Make predictions on the TF-IDF transformed test set for submission\n",
        "y_test_pred = mlp_model.predict(X_test_submission_tfidf)\n",
        "\n",
        "# Create a DataFrame for submission\n",
        "submission_df = pd.DataFrame({'index': df_test['index'], 'lang_id': y_test_pred})\n",
        "\n",
        "# Save the submission DataFrame to a CSV file\n",
        "submission_df.to_csv('submission_mlp.csv', index=False)\n",
        "\n",
        "# Print the submission DataFrame\n",
        "print(submission_df)\n"
      ]
    }
  ],
  "metadata": {
    "colab": {
      "provenance": []
    },
    "kernelspec": {
      "display_name": "Python 3",
      "name": "python3"
    },
    "language_info": {
      "name": "python"
    }
  },
  "nbformat": 4,
  "nbformat_minor": 0
}